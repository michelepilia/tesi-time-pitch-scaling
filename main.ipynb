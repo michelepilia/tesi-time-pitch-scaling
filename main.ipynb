{
 "cells": [
  {
   "cell_type": "code",
   "execution_count": 48,
   "outputs": [
    {
     "name": "stdout",
     "output_type": "stream",
     "text": [
      "./audio/input/ ./audio/output/ ./audio/output/piano.wav_scaled_0.5.wav 0.5 piano.wav\n",
      "./audio/input/ ./audio/output/ ./audio/output/flute.wav_scaled_0.5.wav 0.5 flute.wav\n",
      "./audio/input/ ./audio/output/ ./audio/output/band.wav_scaled_0.5.wav 0.5 band.wav\n",
      "./audio/input/ ./audio/output/ ./audio/output/woman.wav_scaled_0.5.wav 0.5 woman.wav\n",
      "./audio/input/ ./audio/output/ ./audio/output/drum.wav_scaled_0.5.wav 0.5 drum.wav\n",
      "./audio/input/ ./audio/output/ ./audio/output/piano.wav_scaled_0.8.wav 0.8 piano.wav\n",
      "./audio/input/ ./audio/output/ ./audio/output/flute.wav_scaled_0.8.wav 0.8 flute.wav\n",
      "./audio/input/ ./audio/output/ ./audio/output/band.wav_scaled_0.8.wav 0.8 band.wav\n",
      "./audio/input/ ./audio/output/ ./audio/output/woman.wav_scaled_0.8.wav 0.8 woman.wav\n",
      "./audio/input/ ./audio/output/ ./audio/output/drum.wav_scaled_0.8.wav 0.8 drum.wav\n",
      "./audio/input/ ./audio/output/ ./audio/output/piano.wav_scaled_1.2.wav 1.2 piano.wav\n",
      "./audio/input/ ./audio/output/ ./audio/output/flute.wav_scaled_1.2.wav 1.2 flute.wav\n",
      "./audio/input/ ./audio/output/ ./audio/output/band.wav_scaled_1.2.wav 1.2 band.wav\n",
      "./audio/input/ ./audio/output/ ./audio/output/woman.wav_scaled_1.2.wav 1.2 woman.wav\n",
      "./audio/input/ ./audio/output/ ./audio/output/drum.wav_scaled_1.2.wav 1.2 drum.wav\n",
      "./audio/input/ ./audio/output/ ./audio/output/piano.wav_scaled_2.0.wav 2.0 piano.wav\n",
      "./audio/input/ ./audio/output/ ./audio/output/flute.wav_scaled_2.0.wav 2.0 flute.wav\n",
      "./audio/input/ ./audio/output/ ./audio/output/band.wav_scaled_2.0.wav 2.0 band.wav\n",
      "./audio/input/ ./audio/output/ ./audio/output/woman.wav_scaled_2.0.wav 2.0 woman.wav\n",
      "./audio/input/ ./audio/output/ ./audio/output/drum.wav_scaled_2.0.wav 2.0 drum.wav\n"
     ]
    }
   ],
   "source": [
    "from audiotsm import phasevocoder\n",
    "from audiotsm.io.wav import WavReader, WavWriter\n",
    "#import librosa\n",
    "#import keras\n",
    "#import kapre\n",
    "#from keras.models import Sequential\n",
    "#from kapre.time_frequency import Spectrogram\n",
    "import numpy as np\n",
    "import os\n",
    "directory = os.fsencode(\"./audio\")\n",
    "\n",
    "def timescalefolder(inputFolder, outputfolder, tsfactor):\n",
    "    for file in os.listdir(os.fsencode(inputFolder)):\n",
    "        filenamestr = os.fsdecode(file)\n",
    "        filepath = inputFolder+filenamestr\n",
    "\n",
    "        if (filepath.endswith(\".wav\")):\n",
    "            with WavReader(filepath) as reader:\n",
    "                outputname = outputfolder + filenamestr + \"_scaled_\" + str(tsfactor) + \".wav\"\n",
    "                print(inputFolder, outputfolder, outputname, tsfactor, filenamestr)\n",
    "                with WavWriter(outputname, reader.channels, reader.samplerate) as writer:\n",
    "                    tsm = phasevocoder(reader.channels, speed=tsfactor)\n",
    "                    tsm.run(reader, writer)\n",
    "\n",
    "timescalefolder(\"./audio/input/\", \"./audio/output/\", 0.5)\n",
    "timescalefolder(\"./audio/input/\", \"./audio/output/\", 0.8)\n",
    "timescalefolder(\"./audio/input/\", \"./audio/output/\", 1.2)\n",
    "timescalefolder(\"./audio/input/\", \"./audio/output/\", 2.0)\n",
    "\n",
    "#with WavReader(\"./audio/input/piano.wav\") as reader:\n",
    "    #outputname = (\"./audio/output/piano.wav\" + \"_scaled_\" + str(0.5) + \".wav\")\n",
    "    #with WavWriter(outputname, reader.channels, reader.samplerate) as writer:\n",
    "        #tsm = phasevocoder(reader.channels, speed=0.5)\n",
    "        #tsm.run(reader, writer)\n",
    "\n",
    "#Check https://docs.scipy.org/doc/scipy/reference/generated/scipy.signal.spectrogram.html"
   ],
   "metadata": {
    "collapsed": false,
    "pycharm": {
     "name": "#%%\n"
    }
   }
  }
 ],
 "metadata": {
  "language_info": {
   "codemirror_mode": {
    "name": "ipython",
    "version": 2
   },
   "file_extension": ".py",
   "mimetype": "text/x-python",
   "name": "python",
   "nbconvert_exporter": "python",
   "pygments_lexer": "ipython2",
   "version": "2.7.6"
  },
  "kernelspec": {
   "name": "python3",
   "language": "python",
   "display_name": "Python 3"
  },
  "stem_cell": {
   "cell_type": "raw",
   "source": "from audiotsm import phasevocoder\nfrom audiotsm.io.wav import WavReader, WavWriter\n\nwith WavReader(input_filename) as reader:\n    with WavWriter(output_filename, reader.channels, reader.samplerate) as writer:\n        tsm = phasevocoder(reader.channels, speed=0.5)\n        tsm.run(reader, writer)#%%\n",
   "metadata": {
    "pycharm": {
     "metadata": false
    }
   }
  }
 },
 "nbformat": 4,
 "nbformat_minor": 0
}