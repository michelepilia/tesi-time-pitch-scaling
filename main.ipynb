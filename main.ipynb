{
 "cells": [
  {
   "cell_type": "code",
   "execution_count": null,
   "outputs": [],
   "source": [
    "from audiotsm import phasevocoder\n",
    "from audiotsm.io.wav import WavReader, WavWriter\n",
    "#import librosa\n",
    "#import keras\n",
    "#import kapre\n",
    "#from keras.models import Sequential\n",
    "#from kapre.time_frequency import Spectrogram\n",
    "import numpy as np\n",
    "import os\n",
    "directory = os.fsencode(\"./audio\")\n",
    "\n",
    "def timescalefolder(inputFolder, outputfolder, tsfactor):\n",
    "    for file in os.listdir(os.fsencode(inputFolder)):\n",
    "        filenamestr = os.fsdecode(file)\n",
    "        filepath = inputFolder+filenamestr\n",
    "\n",
    "        if (filepath.endswith(\".wav\")):\n",
    "            with WavReader(filepath) as reader:\n",
    "                outputname = outputfolder + filenamestr + \"_scaled_\" + str(tsfactor) + \".wav\"\n",
    "                print(inputFolder, outputfolder, outputname, tsfactor, filenamestr)\n",
    "                with WavWriter(outputname, reader.channels, reader.samplerate) as writer:\n",
    "                    tsm = phasevocoder(reader.channels, speed=tsfactor)\n",
    "                    tsm.run(reader, writer)\n",
    "\n",
    "timescalefolder(\"./audio/input/\", \"./audio/output/\", 3)\n",
    "\n",
    "#with WavReader(\"./audio/input/piano.wav\") as reader:\n",
    "    #outputname = (\"./audio/output/piano.wav\" + \"_scaled_\" + str(0.5) + \".wav\")\n",
    "    #with WavWriter(outputname, reader.channels, reader.samplerate) as writer:\n",
    "        #tsm = phasevocoder(reader.channels, speed=0.5)\n",
    "        #tsm.run(reader, writer)\n",
    "\n",
    "#Check https://docs.scipy.org/doc/scipy/reference/generated/scipy.signal.spectrogram.html"
   ],
   "metadata": {
    "collapsed": false,
    "pycharm": {
     "name": "#%%\n"
    }
   }
  }
 ],
 "metadata": {
  "language_info": {
   "codemirror_mode": {
    "name": "ipython",
    "version": 2
   },
   "file_extension": ".py",
   "mimetype": "text/x-python",
   "name": "python",
   "nbconvert_exporter": "python",
   "pygments_lexer": "ipython2",
   "version": "2.7.6"
  },
  "kernelspec": {
   "name": "python3",
   "language": "python",
   "display_name": "Python 3"
  },
  "stem_cell": {
   "cell_type": "raw",
   "source": "from audiotsm import phasevocoder\nfrom audiotsm.io.wav import WavReader, WavWriter\n\nwith WavReader(input_filename) as reader:\n    with WavWriter(output_filename, reader.channels, reader.samplerate) as writer:\n        tsm = phasevocoder(reader.channels, speed=0.5)\n        tsm.run(reader, writer)#%%\n",
   "metadata": {
    "pycharm": {
     "metadata": false
    }
   }
  }
 },
 "nbformat": 4,
 "nbformat_minor": 0
}