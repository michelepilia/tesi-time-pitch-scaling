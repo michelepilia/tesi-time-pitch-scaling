{
 "cells": [
  {
   "cell_type": "code",
   "execution_count": 3,
   "outputs": [],
   "source": [
    "from audiotsm import phasevocoder\n",
    "from audiotsm.io.wav import WavReader, WavWriter\n",
    "\n",
    "with WavReader(\"./audio/piano.wav\") as reader:\n",
    "    with WavWriter(\"output_filename.wav\", reader.channels, reader.samplerate) as writer:\n",
    "        tsm = phasevocoder(reader.channels, speed=0.5)\n",
    "        tsm.run(reader, writer)\n"
   ],
   "metadata": {
    "collapsed": false,
    "pycharm": {
     "name": "#%%\n"
    }
   }
  }
 ],
 "metadata": {
  "language_info": {
   "codemirror_mode": {
    "name": "ipython",
    "version": 2
   },
   "file_extension": ".py",
   "mimetype": "text/x-python",
   "name": "python",
   "nbconvert_exporter": "python",
   "pygments_lexer": "ipython2",
   "version": "2.7.6"
  },
  "kernelspec": {
   "name": "python3",
   "language": "python",
   "display_name": "Python 3"
  },
  "stem_cell": {
   "cell_type": "raw",
   "source": "from audiotsm import phasevocoder\nfrom audiotsm.io.wav import WavReader, WavWriter\n\nwith WavReader(input_filename) as reader:\n    with WavWriter(output_filename, reader.channels, reader.samplerate) as writer:\n        tsm = phasevocoder(reader.channels, speed=0.5)\n        tsm.run(reader, writer)#%%\n",
   "metadata": {
    "pycharm": {
     "metadata": false
    }
   }
  }
 },
 "nbformat": 4,
 "nbformat_minor": 0
}